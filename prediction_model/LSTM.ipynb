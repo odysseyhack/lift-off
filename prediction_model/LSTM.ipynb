{
 "cells": [
  {
   "cell_type": "markdown",
   "metadata": {},
   "source": [
    "# Deeplearning for deforrestation"
   ]
  },
  {
   "cell_type": "code",
   "execution_count": 1,
   "metadata": {},
   "outputs": [
    {
     "name": "stderr",
     "output_type": "stream",
     "text": [
      "Using TensorFlow backend.\n"
     ]
    }
   ],
   "source": [
    "import numpy as np\n",
    "import matplotlib.pyplot as plt\n",
    "import glob, os\n",
    "import warnings\n",
    "import random\n",
    "import keras\n",
    "from keras.models import Sequential, model_from_json, load_model\n",
    "from keras.layers import Dense,BatchNormalization\n",
    "from keras.optimizers import Adam\n",
    "from keras.layers import Dense, Dropout, LSTM, Activation\n",
    "from keras.layers import Input, Embedding, LSTM, Dense\n",
    "from keras.models import Model\n",
    "import keras.callbacks as cbks\n",
    "import keras_metrics\n",
    "from keras import backend as K\n",
    "import pandas as pd\n",
    "%matplotlib inline\n"
   ]
  },
  {
   "cell_type": "markdown",
   "metadata": {},
   "source": [
    "# Load data sets except test forrest"
   ]
  },
  {
   "cell_type": "code",
   "execution_count": 162,
   "metadata": {},
   "outputs": [
    {
     "name": "stdout",
     "output_type": "stream",
     "text": [
      "2 9100\n",
      "3 8640\n",
      "4 5963\n",
      "5 3456\n",
      "6 2392\n",
      "7 17955\n",
      "8 1932\n",
      "9 1254\n",
      "10 1254\n",
      "11 1326\n",
      "12 4096\n",
      "13 2756\n",
      "83719\n"
     ]
    }
   ],
   "source": [
    "testDataArea=1\n",
    "for i in range(14):\n",
    "    if i ==0:\n",
    "        df=pd.read_csv('model files/subset'+str(i)+'.csv')\n",
    "    elif i!=testDataArea:\n",
    "        newDf=pd.read_csv('model files/subset'+str(i)+'.csv')\n",
    "        print(i,len(newDf))\n",
    "        df=pd.concat([df,newDf])\n",
    "print(len(df))"
   ]
  },
  {
   "cell_type": "markdown",
   "metadata": {},
   "source": [
    "# Load test forrest"
   ]
  },
  {
   "cell_type": "code",
   "execution_count": 101,
   "metadata": {},
   "outputs": [],
   "source": [
    "testArea=pd.read_csv('model files/subset'+str(1)+'.csv')"
   ]
  },
  {
   "cell_type": "markdown",
   "metadata": {},
   "source": [
    "# Set label and remove redundant columns"
   ]
  },
  {
   "cell_type": "code",
   "execution_count": 76,
   "metadata": {},
   "outputs": [],
   "source": [
    "df['label']=df['2018 10 km2']\n"
   ]
  },
  {
   "cell_type": "code",
   "execution_count": 77,
   "metadata": {},
   "outputs": [],
   "source": [
    "for i in range(10):\n",
    "    df=df.drop([str(2019)+' '+str(i*10)+' '+'km2'],axis=1)\n",
    "for i in range(10):\n",
    "    df=df.drop([str(2018)+' '+str(i*10)+' '+'km2'],axis=1)\n",
    "df=df.drop(['Unnamed: 0'],axis=1)"
   ]
  },
  {
   "cell_type": "markdown",
   "metadata": {},
   "source": [
    "# Data frame to be used"
   ]
  },
  {
   "cell_type": "code",
   "execution_count": 78,
   "metadata": {},
   "outputs": [
    {
     "data": {
      "text/html": [
       "<div>\n",
       "<style scoped>\n",
       "    .dataframe tbody tr th:only-of-type {\n",
       "        vertical-align: middle;\n",
       "    }\n",
       "\n",
       "    .dataframe tbody tr th {\n",
       "        vertical-align: top;\n",
       "    }\n",
       "\n",
       "    .dataframe thead th {\n",
       "        text-align: right;\n",
       "    }\n",
       "</style>\n",
       "<table border=\"1\" class=\"dataframe\">\n",
       "  <thead>\n",
       "    <tr style=\"text-align: right;\">\n",
       "      <th></th>\n",
       "      <th>2015 0 km2</th>\n",
       "      <th>2015 10 km2</th>\n",
       "      <th>2015 20 km2</th>\n",
       "      <th>2015 30 km2</th>\n",
       "      <th>2015 40 km2</th>\n",
       "      <th>2015 50 km2</th>\n",
       "      <th>2015 60 km2</th>\n",
       "      <th>2015 70 km2</th>\n",
       "      <th>2015 80 km2</th>\n",
       "      <th>2015 90 km2</th>\n",
       "      <th>...</th>\n",
       "      <th>2017 10 km2</th>\n",
       "      <th>2017 20 km2</th>\n",
       "      <th>2017 30 km2</th>\n",
       "      <th>2017 40 km2</th>\n",
       "      <th>2017 50 km2</th>\n",
       "      <th>2017 60 km2</th>\n",
       "      <th>2017 70 km2</th>\n",
       "      <th>2017 80 km2</th>\n",
       "      <th>2017 90 km2</th>\n",
       "      <th>label</th>\n",
       "    </tr>\n",
       "  </thead>\n",
       "  <tbody>\n",
       "    <tr>\n",
       "      <th>count</th>\n",
       "      <td>83719.000000</td>\n",
       "      <td>83719.000000</td>\n",
       "      <td>83719.000000</td>\n",
       "      <td>83719.000000</td>\n",
       "      <td>83719.000000</td>\n",
       "      <td>83719.000000</td>\n",
       "      <td>83719.000000</td>\n",
       "      <td>83719.000000</td>\n",
       "      <td>83719.000000</td>\n",
       "      <td>83719.00000</td>\n",
       "      <td>...</td>\n",
       "      <td>83719.000000</td>\n",
       "      <td>83719.000000</td>\n",
       "      <td>83719.00000</td>\n",
       "      <td>83719.000000</td>\n",
       "      <td>83719.000000</td>\n",
       "      <td>83719.00000</td>\n",
       "      <td>83719.000000</td>\n",
       "      <td>83719.000000</td>\n",
       "      <td>83719.000000</td>\n",
       "      <td>83719.000000</td>\n",
       "    </tr>\n",
       "    <tr>\n",
       "      <th>mean</th>\n",
       "      <td>17.728735</td>\n",
       "      <td>1747.520897</td>\n",
       "      <td>6761.082896</td>\n",
       "      <td>14533.653185</td>\n",
       "      <td>24423.508152</td>\n",
       "      <td>35650.695266</td>\n",
       "      <td>47648.938234</td>\n",
       "      <td>59913.321635</td>\n",
       "      <td>71977.522570</td>\n",
       "      <td>83691.62969</td>\n",
       "      <td>...</td>\n",
       "      <td>892.270285</td>\n",
       "      <td>3487.527037</td>\n",
       "      <td>7595.47749</td>\n",
       "      <td>12978.962756</td>\n",
       "      <td>19319.444702</td>\n",
       "      <td>26303.51373</td>\n",
       "      <td>33597.622320</td>\n",
       "      <td>40930.622021</td>\n",
       "      <td>48181.135429</td>\n",
       "      <td>622.701812</td>\n",
       "    </tr>\n",
       "    <tr>\n",
       "      <th>std</th>\n",
       "      <td>77.478950</td>\n",
       "      <td>3499.852076</td>\n",
       "      <td>10354.138748</td>\n",
       "      <td>19139.042845</td>\n",
       "      <td>29067.592270</td>\n",
       "      <td>39312.612075</td>\n",
       "      <td>49412.890658</td>\n",
       "      <td>58987.752944</td>\n",
       "      <td>67626.306784</td>\n",
       "      <td>75299.12848</td>\n",
       "      <td>...</td>\n",
       "      <td>1449.668411</td>\n",
       "      <td>4193.421386</td>\n",
       "      <td>7904.63616</td>\n",
       "      <td>12121.529555</td>\n",
       "      <td>16483.250387</td>\n",
       "      <td>20764.50418</td>\n",
       "      <td>24827.252579</td>\n",
       "      <td>28606.572954</td>\n",
       "      <td>32064.816632</td>\n",
       "      <td>1042.864940</td>\n",
       "    </tr>\n",
       "    <tr>\n",
       "      <th>min</th>\n",
       "      <td>0.000000</td>\n",
       "      <td>0.000000</td>\n",
       "      <td>0.000000</td>\n",
       "      <td>0.000000</td>\n",
       "      <td>0.000000</td>\n",
       "      <td>0.000000</td>\n",
       "      <td>0.000000</td>\n",
       "      <td>0.000000</td>\n",
       "      <td>0.000000</td>\n",
       "      <td>64.00000</td>\n",
       "      <td>...</td>\n",
       "      <td>0.000000</td>\n",
       "      <td>0.000000</td>\n",
       "      <td>0.00000</td>\n",
       "      <td>0.000000</td>\n",
       "      <td>0.000000</td>\n",
       "      <td>0.00000</td>\n",
       "      <td>0.000000</td>\n",
       "      <td>0.000000</td>\n",
       "      <td>452.000000</td>\n",
       "      <td>0.000000</td>\n",
       "    </tr>\n",
       "    <tr>\n",
       "      <th>25%</th>\n",
       "      <td>0.000000</td>\n",
       "      <td>29.000000</td>\n",
       "      <td>789.500000</td>\n",
       "      <td>2917.000000</td>\n",
       "      <td>6840.500000</td>\n",
       "      <td>12509.000000</td>\n",
       "      <td>18949.000000</td>\n",
       "      <td>25035.000000</td>\n",
       "      <td>30347.000000</td>\n",
       "      <td>34531.50000</td>\n",
       "      <td>...</td>\n",
       "      <td>14.000000</td>\n",
       "      <td>469.000000</td>\n",
       "      <td>1792.00000</td>\n",
       "      <td>3681.000000</td>\n",
       "      <td>6562.500000</td>\n",
       "      <td>10208.50000</td>\n",
       "      <td>14554.500000</td>\n",
       "      <td>19316.000000</td>\n",
       "      <td>22855.000000</td>\n",
       "      <td>8.000000</td>\n",
       "    </tr>\n",
       "    <tr>\n",
       "      <th>50%</th>\n",
       "      <td>0.000000</td>\n",
       "      <td>607.000000</td>\n",
       "      <td>3372.000000</td>\n",
       "      <td>8704.000000</td>\n",
       "      <td>15605.000000</td>\n",
       "      <td>23543.000000</td>\n",
       "      <td>32196.000000</td>\n",
       "      <td>42469.000000</td>\n",
       "      <td>48801.000000</td>\n",
       "      <td>58835.00000</td>\n",
       "      <td>...</td>\n",
       "      <td>363.000000</td>\n",
       "      <td>2039.000000</td>\n",
       "      <td>4937.00000</td>\n",
       "      <td>9444.000000</td>\n",
       "      <td>15487.000000</td>\n",
       "      <td>21463.00000</td>\n",
       "      <td>27012.000000</td>\n",
       "      <td>34450.000000</td>\n",
       "      <td>40049.000000</td>\n",
       "      <td>257.000000</td>\n",
       "    </tr>\n",
       "    <tr>\n",
       "      <th>75%</th>\n",
       "      <td>6.000000</td>\n",
       "      <td>1971.500000</td>\n",
       "      <td>8498.000000</td>\n",
       "      <td>18548.000000</td>\n",
       "      <td>31296.000000</td>\n",
       "      <td>43176.000000</td>\n",
       "      <td>58168.500000</td>\n",
       "      <td>74232.500000</td>\n",
       "      <td>90159.500000</td>\n",
       "      <td>105884.00000</td>\n",
       "      <td>...</td>\n",
       "      <td>1158.000000</td>\n",
       "      <td>4891.000000</td>\n",
       "      <td>11110.50000</td>\n",
       "      <td>18626.000000</td>\n",
       "      <td>27305.000000</td>\n",
       "      <td>37005.00000</td>\n",
       "      <td>48385.000000</td>\n",
       "      <td>60775.500000</td>\n",
       "      <td>72144.500000</td>\n",
       "      <td>840.000000</td>\n",
       "    </tr>\n",
       "    <tr>\n",
       "      <th>max</th>\n",
       "      <td>1592.000000</td>\n",
       "      <td>53854.000000</td>\n",
       "      <td>85559.000000</td>\n",
       "      <td>144636.000000</td>\n",
       "      <td>209007.000000</td>\n",
       "      <td>264666.000000</td>\n",
       "      <td>309619.000000</td>\n",
       "      <td>366324.000000</td>\n",
       "      <td>394691.000000</td>\n",
       "      <td>402416.00000</td>\n",
       "      <td>...</td>\n",
       "      <td>17291.000000</td>\n",
       "      <td>29262.000000</td>\n",
       "      <td>53551.00000</td>\n",
       "      <td>68272.000000</td>\n",
       "      <td>90258.000000</td>\n",
       "      <td>113423.00000</td>\n",
       "      <td>127770.000000</td>\n",
       "      <td>136840.000000</td>\n",
       "      <td>141917.000000</td>\n",
       "      <td>18313.000000</td>\n",
       "    </tr>\n",
       "  </tbody>\n",
       "</table>\n",
       "<p>8 rows × 31 columns</p>\n",
       "</div>"
      ],
      "text/plain": [
       "         2015 0 km2   2015 10 km2   2015 20 km2    2015 30 km2    2015 40 km2  \\\n",
       "count  83719.000000  83719.000000  83719.000000   83719.000000   83719.000000   \n",
       "mean      17.728735   1747.520897   6761.082896   14533.653185   24423.508152   \n",
       "std       77.478950   3499.852076  10354.138748   19139.042845   29067.592270   \n",
       "min        0.000000      0.000000      0.000000       0.000000       0.000000   \n",
       "25%        0.000000     29.000000    789.500000    2917.000000    6840.500000   \n",
       "50%        0.000000    607.000000   3372.000000    8704.000000   15605.000000   \n",
       "75%        6.000000   1971.500000   8498.000000   18548.000000   31296.000000   \n",
       "max     1592.000000  53854.000000  85559.000000  144636.000000  209007.000000   \n",
       "\n",
       "         2015 50 km2    2015 60 km2    2015 70 km2    2015 80 km2  \\\n",
       "count   83719.000000   83719.000000   83719.000000   83719.000000   \n",
       "mean    35650.695266   47648.938234   59913.321635   71977.522570   \n",
       "std     39312.612075   49412.890658   58987.752944   67626.306784   \n",
       "min         0.000000       0.000000       0.000000       0.000000   \n",
       "25%     12509.000000   18949.000000   25035.000000   30347.000000   \n",
       "50%     23543.000000   32196.000000   42469.000000   48801.000000   \n",
       "75%     43176.000000   58168.500000   74232.500000   90159.500000   \n",
       "max    264666.000000  309619.000000  366324.000000  394691.000000   \n",
       "\n",
       "        2015 90 km2      ...        2017 10 km2   2017 20 km2  2017 30 km2  \\\n",
       "count   83719.00000      ...       83719.000000  83719.000000  83719.00000   \n",
       "mean    83691.62969      ...         892.270285   3487.527037   7595.47749   \n",
       "std     75299.12848      ...        1449.668411   4193.421386   7904.63616   \n",
       "min        64.00000      ...           0.000000      0.000000      0.00000   \n",
       "25%     34531.50000      ...          14.000000    469.000000   1792.00000   \n",
       "50%     58835.00000      ...         363.000000   2039.000000   4937.00000   \n",
       "75%    105884.00000      ...        1158.000000   4891.000000  11110.50000   \n",
       "max    402416.00000      ...       17291.000000  29262.000000  53551.00000   \n",
       "\n",
       "        2017 40 km2   2017 50 km2   2017 60 km2    2017 70 km2    2017 80 km2  \\\n",
       "count  83719.000000  83719.000000   83719.00000   83719.000000   83719.000000   \n",
       "mean   12978.962756  19319.444702   26303.51373   33597.622320   40930.622021   \n",
       "std    12121.529555  16483.250387   20764.50418   24827.252579   28606.572954   \n",
       "min        0.000000      0.000000       0.00000       0.000000       0.000000   \n",
       "25%     3681.000000   6562.500000   10208.50000   14554.500000   19316.000000   \n",
       "50%     9444.000000  15487.000000   21463.00000   27012.000000   34450.000000   \n",
       "75%    18626.000000  27305.000000   37005.00000   48385.000000   60775.500000   \n",
       "max    68272.000000  90258.000000  113423.00000  127770.000000  136840.000000   \n",
       "\n",
       "         2017 90 km2         label  \n",
       "count   83719.000000  83719.000000  \n",
       "mean    48181.135429    622.701812  \n",
       "std     32064.816632   1042.864940  \n",
       "min       452.000000      0.000000  \n",
       "25%     22855.000000      8.000000  \n",
       "50%     40049.000000    257.000000  \n",
       "75%     72144.500000    840.000000  \n",
       "max    141917.000000  18313.000000  \n",
       "\n",
       "[8 rows x 31 columns]"
      ]
     },
     "execution_count": 78,
     "metadata": {},
     "output_type": "execute_result"
    }
   ],
   "source": [
    "df.describe()"
   ]
  },
  {
   "cell_type": "markdown",
   "metadata": {},
   "source": [
    "# Prepair train data"
   ]
  },
  {
   "cell_type": "code",
   "execution_count": 79,
   "metadata": {},
   "outputs": [],
   "source": [
    "trainDat=df.drop(['label','coordinate'],axis=1)"
   ]
  },
  {
   "cell_type": "code",
   "execution_count": null,
   "metadata": {},
   "outputs": [],
   "source": [
    "#normalize\n",
    "trainDat=(trainDat-trainDat.mean())/trainDat.std()"
   ]
  },
  {
   "cell_type": "code",
   "execution_count": 80,
   "metadata": {},
   "outputs": [],
   "source": []
  },
  {
   "cell_type": "markdown",
   "metadata": {},
   "source": [
    "# Make 3d matrix"
   ]
  },
  {
   "cell_type": "code",
   "execution_count": 83,
   "metadata": {},
   "outputs": [],
   "source": [
    "\n",
    "seq = trainDat.reindex(sorted(trainDat.columns), axis=1)\n",
    "seqList=[]\n",
    "noOfFeatures=10\n",
    "for row in seq.as_matrix():\n",
    "    seqFeat=[]\n",
    "    for i in range(int(len(row)/noOfFeatures)):\n",
    "        tmpFeat=[]\n",
    "        for no in range(noOfFeatures):\n",
    "            tmpFeat.append(row[no+i*10])\n",
    "        seqFeat.append(tmpFeat)\n",
    "    seqList.append(seqFeat)\n",
    "seqArr=np.array(seqList)"
   ]
  },
  {
   "cell_type": "markdown",
   "metadata": {},
   "source": [
    "# Init model"
   ]
  },
  {
   "cell_type": "code",
   "execution_count": 92,
   "metadata": {},
   "outputs": [
    {
     "name": "stdout",
     "output_type": "stream",
     "text": [
      "_________________________________________________________________\n",
      "Layer (type)                 Output Shape              Param #   \n",
      "=================================================================\n",
      "lstm_7 (LSTM)                (None, 3, 8)              608       \n",
      "_________________________________________________________________\n",
      "dropout_7 (Dropout)          (None, 3, 8)              0         \n",
      "_________________________________________________________________\n",
      "batch_normalization_7 (Batch (None, 3, 8)              32        \n",
      "_________________________________________________________________\n",
      "lstm_8 (LSTM)                (None, 4)                 208       \n",
      "_________________________________________________________________\n",
      "dropout_8 (Dropout)          (None, 4)                 0         \n",
      "_________________________________________________________________\n",
      "batch_normalization_8 (Batch (None, 4)                 16        \n",
      "_________________________________________________________________\n",
      "dense_4 (Dense)              (None, 1)                 5         \n",
      "=================================================================\n",
      "Total params: 869\n",
      "Trainable params: 845\n",
      "Non-trainable params: 24\n",
      "_________________________________________________________________\n",
      "None\n"
     ]
    }
   ],
   "source": [
    "def init_lstm(seqArr,windowSize,featureSize):\n",
    "    model = Sequential()\n",
    "\n",
    "    model.add(LSTM(\n",
    "             input_shape=(windowSize, featureSize),\n",
    "             units=8,\n",
    "             return_sequences=True))\n",
    "    model.add(Dropout(0.4))\n",
    "    model.add(BatchNormalization())\n",
    "\n",
    "    model.add(LSTM(\n",
    "              units=4,\n",
    "              return_sequences=False))\n",
    "    model.add(Dropout(0.4))\n",
    "    model.add(BatchNormalization())\n",
    "    model.add(Dense(1,activation='linear'))\n",
    "    model.compile(loss='mse', optimizer='adam', metrics=['mae'])\n",
    "\n",
    "    print(model.summary())\n",
    "    return model\n",
    "\n",
    "windowSize=3\n",
    "featureSize=10\n",
    "lstmMod=init_lstm(seqArr,windowSize,featureSize)\n"
   ]
  },
  {
   "cell_type": "code",
   "execution_count": 93,
   "metadata": {},
   "outputs": [],
   "source": [
    "def convertToCat(x):\n",
    "    new=np.zeros(4)\n",
    "    new[x]=1\n",
    "    return list(new)"
   ]
  },
  {
   "cell_type": "markdown",
   "metadata": {},
   "source": [
    "# Train/validation"
   ]
  },
  {
   "cell_type": "code",
   "execution_count": 98,
   "metadata": {},
   "outputs": [],
   "source": [
    "import random\n",
    "batch_size=32\n",
    "epochs=30\n",
    "# df['label']=df['label'].apply(lambda x: convertToCat(x))\n",
    "trainX=seqArr[0:int(0.8*seqArr.shape[0]),:,:]\n",
    "trainY=df['label'][0:int(0.8*seqArr.shape[0])]\n",
    "valX=seqArr[int(0.8*seqArr.shape[0]):seqArr.shape[0],:,:]\n",
    "valY=df['label'][int(0.8*seqArr.shape[0]):seqArr.shape[0]]\n"
   ]
  },
  {
   "cell_type": "code",
   "execution_count": null,
   "metadata": {},
   "outputs": [],
   "source": []
  },
  {
   "cell_type": "code",
   "execution_count": 99,
   "metadata": {},
   "outputs": [
    {
     "name": "stdout",
     "output_type": "stream",
     "text": [
      "Train on 66975 samples, validate on 12558 samples\n",
      "Epoch 1/30\n",
      "66975/66975 [==============================] - 14s 205us/step - loss: 670845.2596 - mean_absolute_error: 472.7028 - val_loss: 248745.7927 - val_mean_absolute_error: 392.3317\n",
      "\n",
      "Epoch 00001: val_loss improved from inf to 248745.79266, saving model to weights.hdf5\n",
      "Epoch 2/30\n",
      "66975/66975 [==============================] - 14s 207us/step - loss: 665969.8368 - mean_absolute_error: 470.4444 - val_loss: 267113.7091 - val_mean_absolute_error: 375.5048\n",
      "\n",
      "Epoch 00002: val_loss did not improve from 248745.79266\n",
      "Epoch 3/30\n",
      "66975/66975 [==============================] - 14s 205us/step - loss: 656056.5979 - mean_absolute_error: 470.2909 - val_loss: 191621.5108 - val_mean_absolute_error: 344.4249\n",
      "\n",
      "Epoch 00003: val_loss improved from 248745.79266 to 191621.51084, saving model to weights.hdf5\n",
      "Epoch 4/30\n",
      "66975/66975 [==============================] - 14s 205us/step - loss: 647756.5037 - mean_absolute_error: 467.7359 - val_loss: 170306.9518 - val_mean_absolute_error: 322.3350\n",
      "\n",
      "Epoch 00004: val_loss improved from 191621.51084 to 170306.95180, saving model to weights.hdf5\n",
      "Epoch 5/30\n",
      "66975/66975 [==============================] - 13s 201us/step - loss: 650703.0019 - mean_absolute_error: 467.8482 - val_loss: 199201.3914 - val_mean_absolute_error: 365.6492\n",
      "\n",
      "Epoch 00005: val_loss did not improve from 170306.95180\n",
      "Epoch 6/30\n",
      "66975/66975 [==============================] - 14s 205us/step - loss: 636792.8344 - mean_absolute_error: 466.3395 - val_loss: 236441.6729 - val_mean_absolute_error: 369.3624\n",
      "\n",
      "Epoch 00006: val_loss did not improve from 170306.95180\n",
      "Epoch 7/30\n",
      "66975/66975 [==============================] - 14s 207us/step - loss: 651012.2327 - mean_absolute_error: 466.7168 - val_loss: 212788.8055 - val_mean_absolute_error: 365.6143\n",
      "\n",
      "Epoch 00007: val_loss did not improve from 170306.95180\n",
      "Epoch 8/30\n",
      "66975/66975 [==============================] - 14s 205us/step - loss: 629831.1732 - mean_absolute_error: 462.0540 - val_loss: 221280.8108 - val_mean_absolute_error: 385.2286\n",
      "\n",
      "Epoch 00008: val_loss did not improve from 170306.95180\n",
      "Epoch 9/30\n",
      "66975/66975 [==============================] - 14s 208us/step - loss: 612849.0352 - mean_absolute_error: 458.7438 - val_loss: 204581.6652 - val_mean_absolute_error: 370.0491\n",
      "\n",
      "Epoch 00009: val_loss did not improve from 170306.95180\n",
      "Epoch 10/30\n",
      "66975/66975 [==============================] - 15s 224us/step - loss: 622721.0129 - mean_absolute_error: 461.2760 - val_loss: 189495.6786 - val_mean_absolute_error: 340.8889\n",
      "\n",
      "Epoch 00010: val_loss did not improve from 170306.95180\n",
      "Epoch 11/30\n",
      "66975/66975 [==============================] - 15s 219us/step - loss: 622174.9596 - mean_absolute_error: 461.0755 - val_loss: 210253.9554 - val_mean_absolute_error: 354.6717\n",
      "\n",
      "Epoch 00011: val_loss did not improve from 170306.95180\n",
      "Epoch 12/30\n",
      "66975/66975 [==============================] - 14s 211us/step - loss: 620822.6738 - mean_absolute_error: 459.3358 - val_loss: 207383.7855 - val_mean_absolute_error: 369.0501\n",
      "\n",
      "Epoch 00012: val_loss did not improve from 170306.95180\n",
      "Epoch 13/30\n",
      "66975/66975 [==============================] - 14s 214us/step - loss: 616208.9817 - mean_absolute_error: 458.2959 - val_loss: 231199.2941 - val_mean_absolute_error: 376.8131\n",
      "\n",
      "Epoch 00013: val_loss did not improve from 170306.95180\n",
      "Epoch 14/30\n",
      "30976/66975 [============>.................] - ETA: 7s - loss: 624177.1955 - mean_absolute_error: 461.1225"
     ]
    },
    {
     "ename": "KeyboardInterrupt",
     "evalue": "",
     "output_type": "error",
     "traceback": [
      "\u001b[1;31m---------------------------------------------------------------------------\u001b[0m",
      "\u001b[1;31mKeyboardInterrupt\u001b[0m                         Traceback (most recent call last)",
      "\u001b[1;32m<ipython-input-99-0382c6fddce9>\u001b[0m in \u001b[0;36m<module>\u001b[1;34m()\u001b[0m\n\u001b[0;32m      2\u001b[0m \u001b[1;33m\u001b[0m\u001b[0m\n\u001b[0;32m      3\u001b[0m history_callback=lstmMod.fit(trainX, trainY, epochs=epochs, batch_size=batch_size, validation_data=[valX,valY], verbose=1\n\u001b[1;32m----> 4\u001b[1;33m           ,callbacks = [checkpointer],shuffle=True)\n\u001b[0m",
      "\u001b[1;32m~\\Anaconda3\\lib\\site-packages\\keras\\engine\\training.py\u001b[0m in \u001b[0;36mfit\u001b[1;34m(self, x, y, batch_size, epochs, verbose, callbacks, validation_split, validation_data, shuffle, class_weight, sample_weight, initial_epoch, steps_per_epoch, validation_steps, **kwargs)\u001b[0m\n\u001b[0;32m   1035\u001b[0m                                         \u001b[0minitial_epoch\u001b[0m\u001b[1;33m=\u001b[0m\u001b[0minitial_epoch\u001b[0m\u001b[1;33m,\u001b[0m\u001b[1;33m\u001b[0m\u001b[0m\n\u001b[0;32m   1036\u001b[0m                                         \u001b[0msteps_per_epoch\u001b[0m\u001b[1;33m=\u001b[0m\u001b[0msteps_per_epoch\u001b[0m\u001b[1;33m,\u001b[0m\u001b[1;33m\u001b[0m\u001b[0m\n\u001b[1;32m-> 1037\u001b[1;33m                                         validation_steps=validation_steps)\n\u001b[0m\u001b[0;32m   1038\u001b[0m \u001b[1;33m\u001b[0m\u001b[0m\n\u001b[0;32m   1039\u001b[0m     def evaluate(self, x=None, y=None,\n",
      "\u001b[1;32m~\\Anaconda3\\lib\\site-packages\\keras\\engine\\training_arrays.py\u001b[0m in \u001b[0;36mfit_loop\u001b[1;34m(model, f, ins, out_labels, batch_size, epochs, verbose, callbacks, val_f, val_ins, shuffle, callback_metrics, initial_epoch, steps_per_epoch, validation_steps)\u001b[0m\n\u001b[0;32m    197\u001b[0m                     \u001b[0mins_batch\u001b[0m\u001b[1;33m[\u001b[0m\u001b[0mi\u001b[0m\u001b[1;33m]\u001b[0m \u001b[1;33m=\u001b[0m \u001b[0mins_batch\u001b[0m\u001b[1;33m[\u001b[0m\u001b[0mi\u001b[0m\u001b[1;33m]\u001b[0m\u001b[1;33m.\u001b[0m\u001b[0mtoarray\u001b[0m\u001b[1;33m(\u001b[0m\u001b[1;33m)\u001b[0m\u001b[1;33m\u001b[0m\u001b[0m\n\u001b[0;32m    198\u001b[0m \u001b[1;33m\u001b[0m\u001b[0m\n\u001b[1;32m--> 199\u001b[1;33m                 \u001b[0mouts\u001b[0m \u001b[1;33m=\u001b[0m \u001b[0mf\u001b[0m\u001b[1;33m(\u001b[0m\u001b[0mins_batch\u001b[0m\u001b[1;33m)\u001b[0m\u001b[1;33m\u001b[0m\u001b[0m\n\u001b[0m\u001b[0;32m    200\u001b[0m                 \u001b[0mouts\u001b[0m \u001b[1;33m=\u001b[0m \u001b[0mto_list\u001b[0m\u001b[1;33m(\u001b[0m\u001b[0mouts\u001b[0m\u001b[1;33m)\u001b[0m\u001b[1;33m\u001b[0m\u001b[0m\n\u001b[0;32m    201\u001b[0m                 \u001b[1;32mfor\u001b[0m \u001b[0ml\u001b[0m\u001b[1;33m,\u001b[0m \u001b[0mo\u001b[0m \u001b[1;32min\u001b[0m \u001b[0mzip\u001b[0m\u001b[1;33m(\u001b[0m\u001b[0mout_labels\u001b[0m\u001b[1;33m,\u001b[0m \u001b[0mouts\u001b[0m\u001b[1;33m)\u001b[0m\u001b[1;33m:\u001b[0m\u001b[1;33m\u001b[0m\u001b[0m\n",
      "\u001b[1;32m~\\Anaconda3\\lib\\site-packages\\keras\\backend\\tensorflow_backend.py\u001b[0m in \u001b[0;36m__call__\u001b[1;34m(self, inputs)\u001b[0m\n\u001b[0;32m   2664\u001b[0m                 \u001b[1;32mreturn\u001b[0m \u001b[0mself\u001b[0m\u001b[1;33m.\u001b[0m\u001b[0m_legacy_call\u001b[0m\u001b[1;33m(\u001b[0m\u001b[0minputs\u001b[0m\u001b[1;33m)\u001b[0m\u001b[1;33m\u001b[0m\u001b[0m\n\u001b[0;32m   2665\u001b[0m \u001b[1;33m\u001b[0m\u001b[0m\n\u001b[1;32m-> 2666\u001b[1;33m             \u001b[1;32mreturn\u001b[0m \u001b[0mself\u001b[0m\u001b[1;33m.\u001b[0m\u001b[0m_call\u001b[0m\u001b[1;33m(\u001b[0m\u001b[0minputs\u001b[0m\u001b[1;33m)\u001b[0m\u001b[1;33m\u001b[0m\u001b[0m\n\u001b[0m\u001b[0;32m   2667\u001b[0m         \u001b[1;32melse\u001b[0m\u001b[1;33m:\u001b[0m\u001b[1;33m\u001b[0m\u001b[0m\n\u001b[0;32m   2668\u001b[0m             \u001b[1;32mif\u001b[0m \u001b[0mpy_any\u001b[0m\u001b[1;33m(\u001b[0m\u001b[0mis_tensor\u001b[0m\u001b[1;33m(\u001b[0m\u001b[0mx\u001b[0m\u001b[1;33m)\u001b[0m \u001b[1;32mfor\u001b[0m \u001b[0mx\u001b[0m \u001b[1;32min\u001b[0m \u001b[0minputs\u001b[0m\u001b[1;33m)\u001b[0m\u001b[1;33m:\u001b[0m\u001b[1;33m\u001b[0m\u001b[0m\n",
      "\u001b[1;32m~\\Anaconda3\\lib\\site-packages\\keras\\backend\\tensorflow_backend.py\u001b[0m in \u001b[0;36m_call\u001b[1;34m(self, inputs)\u001b[0m\n\u001b[0;32m   2634\u001b[0m                                 \u001b[0msymbol_vals\u001b[0m\u001b[1;33m,\u001b[0m\u001b[1;33m\u001b[0m\u001b[0m\n\u001b[0;32m   2635\u001b[0m                                 session)\n\u001b[1;32m-> 2636\u001b[1;33m         \u001b[0mfetched\u001b[0m \u001b[1;33m=\u001b[0m \u001b[0mself\u001b[0m\u001b[1;33m.\u001b[0m\u001b[0m_callable_fn\u001b[0m\u001b[1;33m(\u001b[0m\u001b[1;33m*\u001b[0m\u001b[0marray_vals\u001b[0m\u001b[1;33m)\u001b[0m\u001b[1;33m\u001b[0m\u001b[0m\n\u001b[0m\u001b[0;32m   2637\u001b[0m         \u001b[1;32mreturn\u001b[0m \u001b[0mfetched\u001b[0m\u001b[1;33m[\u001b[0m\u001b[1;33m:\u001b[0m\u001b[0mlen\u001b[0m\u001b[1;33m(\u001b[0m\u001b[0mself\u001b[0m\u001b[1;33m.\u001b[0m\u001b[0moutputs\u001b[0m\u001b[1;33m)\u001b[0m\u001b[1;33m]\u001b[0m\u001b[1;33m\u001b[0m\u001b[0m\n\u001b[0;32m   2638\u001b[0m \u001b[1;33m\u001b[0m\u001b[0m\n",
      "\u001b[1;32m~\\Anaconda3\\lib\\site-packages\\tensorflow\\python\\client\\session.py\u001b[0m in \u001b[0;36m__call__\u001b[1;34m(self, *args, **kwargs)\u001b[0m\n\u001b[0;32m   1380\u001b[0m           ret = tf_session.TF_SessionRunCallable(\n\u001b[0;32m   1381\u001b[0m               \u001b[0mself\u001b[0m\u001b[1;33m.\u001b[0m\u001b[0m_session\u001b[0m\u001b[1;33m.\u001b[0m\u001b[0m_session\u001b[0m\u001b[1;33m,\u001b[0m \u001b[0mself\u001b[0m\u001b[1;33m.\u001b[0m\u001b[0m_handle\u001b[0m\u001b[1;33m,\u001b[0m \u001b[0margs\u001b[0m\u001b[1;33m,\u001b[0m \u001b[0mstatus\u001b[0m\u001b[1;33m,\u001b[0m\u001b[1;33m\u001b[0m\u001b[0m\n\u001b[1;32m-> 1382\u001b[1;33m               run_metadata_ptr)\n\u001b[0m\u001b[0;32m   1383\u001b[0m         \u001b[1;32mif\u001b[0m \u001b[0mrun_metadata\u001b[0m\u001b[1;33m:\u001b[0m\u001b[1;33m\u001b[0m\u001b[0m\n\u001b[0;32m   1384\u001b[0m           \u001b[0mproto_data\u001b[0m \u001b[1;33m=\u001b[0m \u001b[0mtf_session\u001b[0m\u001b[1;33m.\u001b[0m\u001b[0mTF_GetBuffer\u001b[0m\u001b[1;33m(\u001b[0m\u001b[0mrun_metadata_ptr\u001b[0m\u001b[1;33m)\u001b[0m\u001b[1;33m\u001b[0m\u001b[0m\n",
      "\u001b[1;31mKeyboardInterrupt\u001b[0m: "
     ]
    }
   ],
   "source": [
    "#trail model and save best\n",
    "checkpointer = cbks.ModelCheckpoint(filepath='weights.hdf5',monitor='val_loss' ,verbose=1, save_best_only=True,mode='min')\n",
    "\n",
    "history_callback=lstmMod.fit(trainX, trainY, epochs=epochs, batch_size=batch_size, validation_data=[valX,valY], verbose=1\n",
    "          ,callbacks = [checkpointer],shuffle=True)\n",
    "fileName=\"model\"\n",
    "model_json= lstmMod.to_json()\n",
    "with open(fileName+\".json\", \"w\") as json_file:\n",
    "            json_file.write(model_json)\n",
    "            print('`run_seq_model` > model saved : '+fileName+'.json')"
   ]
  },
  {
   "cell_type": "code",
   "execution_count": 100,
   "metadata": {},
   "outputs": [
    {
     "name": "stdout",
     "output_type": "stream",
     "text": [
      "`run_seq_model` > model saved : model.json\n",
      "`load_seq_model` > model and weights loaded :  model\n"
     ]
    }
   ],
   "source": [
    "# load json and create model\n",
    "def load_model(filname):\n",
    "    json_file = open(\"model\"+\".json\", 'r')\n",
    "    loaded_model_json = json_file.read()\n",
    "    json_file.close()\n",
    "    loaded_model = model_from_json(loaded_model_json)\n",
    "    # load weights into new model\n",
    "    loaded_model.load_weights(model)\n",
    "    print('`load_seq_model` > model and weights loaded : ', fileName)\n",
    "model=load_model(\"model 14_4.hdf5\")"
   ]
  },
  {
   "cell_type": "markdown",
   "metadata": {},
   "source": [
    "# Test on test forrest"
   ]
  },
  {
   "cell_type": "code",
   "execution_count": 124,
   "metadata": {},
   "outputs": [],
   "source": [
    "feat=testArea.drop(['coordinate'],axis=1)"
   ]
  },
  {
   "cell_type": "code",
   "execution_count": 125,
   "metadata": {},
   "outputs": [],
   "source": [
    "coord=testArea['coordinate']"
   ]
  },
  {
   "cell_type": "code",
   "execution_count": 126,
   "metadata": {},
   "outputs": [],
   "source": [
    "testArea['label']=testArea['2018 10 km2']\n",
    "\n",
    "label=testArea['label']"
   ]
  },
  {
   "cell_type": "code",
   "execution_count": 149,
   "metadata": {},
   "outputs": [],
   "source": [
    "orig=testArea['2017 10 km2']"
   ]
  },
  {
   "cell_type": "code",
   "execution_count": 129,
   "metadata": {},
   "outputs": [],
   "source": [
    "for i in range(10):\n",
    "    feat=feat.drop([str(2019)+' '+str(i*10)+' '+'km2'],axis=1)\n",
    "for i in range(10):\n",
    "    feat=feat.drop([str(2018)+' '+str(i*10)+' '+'km2'],axis=1)\n",
    "feat=feat.drop(['Unnamed: 0'],axis=1)\n"
   ]
  },
  {
   "cell_type": "code",
   "execution_count": 130,
   "metadata": {},
   "outputs": [],
   "source": [
    "feat=(feat-feat.mean())/feat.std()"
   ]
  },
  {
   "cell_type": "code",
   "execution_count": 132,
   "metadata": {},
   "outputs": [
    {
     "name": "stderr",
     "output_type": "stream",
     "text": [
      "C:\\Users\\larsr\\Anaconda3\\lib\\site-packages\\ipykernel\\__main__.py:4: FutureWarning: Method .as_matrix will be removed in a future version. Use .values instead.\n"
     ]
    }
   ],
   "source": [
    "seq = feat.reindex(sorted(feat.columns), axis=1)\n",
    "seqList=[]\n",
    "noOfFeatures=10\n",
    "for row in seq.as_matrix():\n",
    "    seqFeat=[]\n",
    "    for i in range(int(len(row)/noOfFeatures)):\n",
    "        tmpFeat=[]\n",
    "        for no in range(noOfFeatures):\n",
    "            tmpFeat.append(row[no+i*10])\n",
    "        seqFeat.append(tmpFeat)\n",
    "    seqList.append(seqFeat)\n",
    "seqArr=np.array(seqList)"
   ]
  },
  {
   "cell_type": "markdown",
   "metadata": {},
   "source": [
    "# Predict scores"
   ]
  },
  {
   "cell_type": "code",
   "execution_count": 133,
   "metadata": {},
   "outputs": [],
   "source": [
    "pred=loaded_model.predict(seqArr)\n",
    "difs=[]\n"
   ]
  },
  {
   "cell_type": "code",
   "execution_count": 150,
   "metadata": {},
   "outputs": [],
   "source": [
    "\n",
    "coord=pd.DataFrame(coord)\n",
    "coord['prediction']=pred\n",
    "coord['real']=label\n",
    "coord['orig']=orig"
   ]
  },
  {
   "cell_type": "code",
   "execution_count": 136,
   "metadata": {},
   "outputs": [],
   "source": [
    "\n",
    "coord['x']=coord['coordinate'].apply(lambda x:int(x.split(',')[0][1:]))\n",
    "coord['y']=coord['coordinate'].apply(lambda x:int(x.split(',')[1][0:len(x.split(',')[1])-1]))"
   ]
  },
  {
   "cell_type": "markdown",
   "metadata": {},
   "source": [
    "# Visualize results on map"
   ]
  },
  {
   "cell_type": "code",
   "execution_count": 137,
   "metadata": {},
   "outputs": [],
   "source": [
    "grid=np.zeros((max(coord['x'])+1,max(coord['y'])+1))"
   ]
  },
  {
   "cell_type": "code",
   "execution_count": 138,
   "metadata": {},
   "outputs": [
    {
     "name": "stderr",
     "output_type": "stream",
     "text": [
      "C:\\Users\\larsr\\Anaconda3\\lib\\site-packages\\ipykernel\\__main__.py:1: FutureWarning: Method .as_matrix will be removed in a future version. Use .values instead.\n",
      "  if __name__ == '__main__':\n"
     ]
    }
   ],
   "source": [
    "for row in coord[['x','y','real','prediction']].as_matrix():\n",
    "    grid[int(row[0])][int(row[1])]=int(row[3])"
   ]
  },
  {
   "cell_type": "code",
   "execution_count": 161,
   "metadata": {},
   "outputs": [
    {
     "data": {
      "image/png": "[encoded data removed]",
      "text/plain": [
       "<Figure size 1440x720 with 1 Axes>"
      ]
     },
     "metadata": {},
     "output_type": "display_data"
    }
   ],
   "source": [
    "plt.figure(figsize=(20,10))\n",
    "plt.suptitle(\"Predicted deforrestation 2018 Kalimantan\")\n",
    "plt.imshow(grid, cmap='hot')\n",
    "plt.show()"
   ]
  },
  {
   "cell_type": "code",
   "execution_count": 140,
   "metadata": {},
   "outputs": [],
   "source": [
    "grid2=np.zeros((max(coord['x'])+1,max(coord['y'])+1))"
   ]
  },
  {
   "cell_type": "code",
   "execution_count": 141,
   "metadata": {},
   "outputs": [
    {
     "name": "stderr",
     "output_type": "stream",
     "text": [
      "C:\\Users\\larsr\\Anaconda3\\lib\\site-packages\\ipykernel\\__main__.py:1: FutureWarning: Method .as_matrix will be removed in a future version. Use .values instead.\n",
      "  if __name__ == '__main__':\n"
     ]
    }
   ],
   "source": [
    "for row in coord[['x','y','real','prediction']].as_matrix():\n",
    "    grid2[int(row[0])][int(row[1])]=int(row[2])"
   ]
  },
  {
   "cell_type": "code",
   "execution_count": 159,
   "metadata": {},
   "outputs": [
    {
     "data": {
      "image/png": "[encoded data removed]",
      "text/plain": [
       "<Figure size 1440x720 with 1 Axes>"
      ]
     },
     "metadata": {},
     "output_type": "display_data"
    }
   ],
   "source": [
    "plt.figure(figsize=(20,10))\n",
    "plt.suptitle(\"Actual deforrestation 2018 Kalimantan\")\n",
    "\n",
    "plt.imshow(grid2, cmap='hot')\n",
    "plt.show()"
   ]
  },
  {
   "cell_type": "code",
   "execution_count": 151,
   "metadata": {},
   "outputs": [],
   "source": [
    "grid3=np.zeros((max(coord['x'])+1,max(coord['y'])+1))"
   ]
  },
  {
   "cell_type": "code",
   "execution_count": 152,
   "metadata": {},
   "outputs": [
    {
     "name": "stderr",
     "output_type": "stream",
     "text": [
      "C:\\Users\\larsr\\Anaconda3\\lib\\site-packages\\ipykernel\\__main__.py:1: FutureWarning: Method .as_matrix will be removed in a future version. Use .values instead.\n",
      "  if __name__ == '__main__':\n"
     ]
    }
   ],
   "source": [
    "for row in coord[['x','y','orig']].as_matrix():\n",
    "    grid3[int(row[0])][int(row[1])]=int(row[2])"
   ]
  },
  {
   "cell_type": "code",
   "execution_count": 160,
   "metadata": {},
   "outputs": [
    {
     "data": {
      "image/png": "[encoded data removed]",
      "text/plain": [
       "<Figure size 1440x720 with 1 Axes>"
      ]
     },
     "metadata": {},
     "output_type": "display_data"
    }
   ],
   "source": [
    "plt.figure(figsize=(20,10))\n",
    "plt.suptitle(\"Actual deforrestation 2017 Kalimantan\")\n",
    "\n",
    "plt.imshow(grid3, cmap='hot')\n",
    "plt.show()"
   ]
  },
  {
   "cell_type": "code",
   "execution_count": null,
   "metadata": {},
   "outputs": [],
   "source": []
  },
  {
   "cell_type": "markdown",
   "metadata": {},
   "source": [
    "# Second architecture"
   ]
  },
  {
   "cell_type": "code",
   "execution_count": null,
   "metadata": {},
   "outputs": [],
   "source": []
  },
  {
   "cell_type": "code",
   "execution_count": null,
   "metadata": {},
   "outputs": [],
   "source": [
    "def init_model(seqArr,windowSize,featureSize):\n",
    "    windowSize=seqArr.shape[1]\n",
    "    featureSize=seqArr.shape[2]\n",
    "\n",
    "    main_input = Input(shape=(windowSize, featureSize), dtype='float', name='main_input')\n",
    "    lstm_out = LSTM(12,batch_input_shape=(windowSize, featureSize),return_sequences=False)(main_input)\n",
    "    lstm_out=Dropout(0.3)(lstm_out)\n",
    "    lstm_out=BatchNormalization()(lstm_out)\n",
    "#     lstm_out=BatchNormalization()(lstm_out)\n",
    "\n",
    "#     lstm_out = LSTM(32,return_sequences=False)(lstm_out)\n",
    "#     lstm_out=Dropout(0.3)(lstm_out)\n",
    "\n",
    "#     lstm_out=BatchNormalization()(lstm_out)\n",
    "\n",
    "    auxiliary_output = Dense(1, activation='sigmoid', name='aux_output')(lstm_out)\n",
    "    auxiliary_input = Input(shape=(len(statFeat[0]),), name='aux_input')\n",
    "    x = keras.layers.concatenate([lstm_out, auxiliary_input],axis=-1) \n",
    "    x=Dense(16, activation=\"relu\")(x)\n",
    "    x=Dropout(0.3)(x)\n",
    "    x=BatchNormalization()(x)\n",
    "    x=Dense(8, activation=\"relu\")(x)\n",
    "    x=Dropout(0.3)(x)\n",
    "    x=BatchNormalization()(x)\n",
    "    main_output = Dense(1, activation=\"sigmoid\", name='main_output')(x)\n",
    "    model = Model(inputs=[main_input, auxiliary_input], outputs=[main_output, auxiliary_output])\n",
    "    model.compile(optimizer='rmsprop', loss={'main_output': 'binary_crossentropy', 'aux_output': 'binary_crossentropy'},\n",
    "              loss_weights={'main_output': 1., 'aux_output': 0.2},metrics=['accuracy',keras_metrics.precision(), keras_metrics.recall()])\n",
    "#     model.compile(loss=\"binary_crossentropy\", optimizer=Adam(lr=0.001),)\n",
    "    print(model.summary())\n",
    "    return model"
   ]
  },
  {
   "cell_type": "code",
   "execution_count": null,
   "metadata": {},
   "outputs": [],
   "source": [
    "seqArr.shape"
   ]
  },
  {
   "cell_type": "code",
   "execution_count": null,
   "metadata": {},
   "outputs": [],
   "source": [
    "import random\n",
    "batch_size=512\n",
    "epochs=30\n",
    "trainX=seqArr[0:int(0.8*seqArr.shape[0]),:,:]\n",
    "trainY=tree_loss_df_norm['label'][0:int(0.8*seqArr.shape[0])]\n",
    "testX=seqArr[int(0.8*seqArr.shape[0]):seqArr.shape[0],:,:]\n",
    "testY=tree_loss_df_norm['label'][int(0.8*seqArr.shape[0]):seqArr.shape[0]]\n",
    "statFeat=tree_loss_df_norm[['lat', 'long']].as_matrix()\n",
    "statFeatTrain=statFeat[0:int(0.8*seqArr.shape[0]),:]\n",
    "statFeatTest=statFeat[int(0.8*seqArr.shape[0]):seqArr.shape[0],:]"
   ]
  },
  {
   "cell_type": "code",
   "execution_count": null,
   "metadata": {},
   "outputs": [],
   "source": []
  },
  {
   "cell_type": "code",
   "execution_count": null,
   "metadata": {},
   "outputs": [],
   "source": [
    "model=init_model()\n",
    "class_weight={0:1,\n",
    "                 1:1000}\n",
    "checkpointer = cbks.ModelCheckpoint(filepath='weights.hdf5',monitor='val_loss' ,verbose=1, save_best_only=True,mode='min')\n",
    "results=model.fit([trainX,statFeatTrain],\n",
    "                               [trainY,trainY],\n",
    "          batch_size=batch_size,\n",
    "          epochs=epochs,\n",
    "          verbose=1,\n",
    "          validation_data=([testX,statFeatTest],\n",
    "                               [testY,testY]),shuffle=True,class_weight=class_weight)\n"
   ]
  }
 ],
 "metadata": {
  "kernelspec": {
   "display_name": "Python [default]",
   "language": "python",
   "name": "python3"
  },
  "language_info": {
   "codemirror_mode": {
    "name": "ipython",
    "version": 3
   },
   "file_extension": ".py",
   "mimetype": "text/x-python",
   "name": "python",
   "nbconvert_exporter": "python",
   "pygments_lexer": "ipython3",
   "version": "3.6.5"
  }
 },
 "nbformat": 4,
 "nbformat_minor": 2
}
